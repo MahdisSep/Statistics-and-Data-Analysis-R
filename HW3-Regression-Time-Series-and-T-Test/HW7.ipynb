{
 "cells": [
  {
   "cell_type": "markdown",
   "id": "9b597d6a",
   "metadata": {},
   "source": [
    "# First Question"
   ]
  },
  {
   "cell_type": "markdown",
   "id": "66dd3c51",
   "metadata": {},
   "source": [
    "### A"
   ]
  },
  {
   "cell_type": "code",
   "execution_count": 1,
   "id": "15fa89fb",
   "metadata": {
    "vscode": {
     "languageId": "r"
    }
   },
   "outputs": [],
   "source": [
    "library(ggplot2)\n",
    "data <- as.data.frame(economics)"
   ]
  },
  {
   "cell_type": "markdown",
   "id": "cc63d4ce",
   "metadata": {},
   "source": [
    "### B"
   ]
  },
  {
   "cell_type": "code",
   "execution_count": 2,
   "id": "4b56b102",
   "metadata": {
    "vscode": {
     "languageId": "r"
    }
   },
   "outputs": [
    {
     "data": {
      "text/html": [
       "<table class=\"dataframe\">\n",
       "<caption>A data.frame: 6 × 6</caption>\n",
       "<thead>\n",
       "\t<tr><th></th><th scope=col>date</th><th scope=col>pce</th><th scope=col>pop</th><th scope=col>psavert</th><th scope=col>uempmed</th><th scope=col>unemploy</th></tr>\n",
       "\t<tr><th></th><th scope=col>&lt;date&gt;</th><th scope=col>&lt;dbl&gt;</th><th scope=col>&lt;dbl&gt;</th><th scope=col>&lt;dbl&gt;</th><th scope=col>&lt;dbl&gt;</th><th scope=col>&lt;dbl&gt;</th></tr>\n",
       "</thead>\n",
       "<tbody>\n",
       "\t<tr><th scope=row>1</th><td>1967-07-01</td><td>506.7</td><td>198712</td><td>12.6</td><td>4.5</td><td>2944</td></tr>\n",
       "\t<tr><th scope=row>2</th><td>1967-08-01</td><td>509.8</td><td>198911</td><td>12.6</td><td>4.7</td><td>2945</td></tr>\n",
       "\t<tr><th scope=row>3</th><td>1967-09-01</td><td>515.6</td><td>199113</td><td>11.9</td><td>4.6</td><td>2958</td></tr>\n",
       "\t<tr><th scope=row>4</th><td>1967-10-01</td><td>512.2</td><td>199311</td><td>12.9</td><td>4.9</td><td>3143</td></tr>\n",
       "\t<tr><th scope=row>5</th><td>1967-11-01</td><td>517.4</td><td>199498</td><td>12.8</td><td>4.7</td><td>3066</td></tr>\n",
       "\t<tr><th scope=row>6</th><td>1967-12-01</td><td>525.1</td><td>199657</td><td>11.8</td><td>4.8</td><td>3018</td></tr>\n",
       "</tbody>\n",
       "</table>\n"
      ],
      "text/latex": [
       "A data.frame: 6 × 6\n",
       "\\begin{tabular}{r|llllll}\n",
       "  & date & pce & pop & psavert & uempmed & unemploy\\\\\n",
       "  & <date> & <dbl> & <dbl> & <dbl> & <dbl> & <dbl>\\\\\n",
       "\\hline\n",
       "\t1 & 1967-07-01 & 506.7 & 198712 & 12.6 & 4.5 & 2944\\\\\n",
       "\t2 & 1967-08-01 & 509.8 & 198911 & 12.6 & 4.7 & 2945\\\\\n",
       "\t3 & 1967-09-01 & 515.6 & 199113 & 11.9 & 4.6 & 2958\\\\\n",
       "\t4 & 1967-10-01 & 512.2 & 199311 & 12.9 & 4.9 & 3143\\\\\n",
       "\t5 & 1967-11-01 & 517.4 & 199498 & 12.8 & 4.7 & 3066\\\\\n",
       "\t6 & 1967-12-01 & 525.1 & 199657 & 11.8 & 4.8 & 3018\\\\\n",
       "\\end{tabular}\n"
      ],
      "text/markdown": [
       "\n",
       "A data.frame: 6 × 6\n",
       "\n",
       "| <!--/--> | date &lt;date&gt; | pce &lt;dbl&gt; | pop &lt;dbl&gt; | psavert &lt;dbl&gt; | uempmed &lt;dbl&gt; | unemploy &lt;dbl&gt; |\n",
       "|---|---|---|---|---|---|---|\n",
       "| 1 | 1967-07-01 | 506.7 | 198712 | 12.6 | 4.5 | 2944 |\n",
       "| 2 | 1967-08-01 | 509.8 | 198911 | 12.6 | 4.7 | 2945 |\n",
       "| 3 | 1967-09-01 | 515.6 | 199113 | 11.9 | 4.6 | 2958 |\n",
       "| 4 | 1967-10-01 | 512.2 | 199311 | 12.9 | 4.9 | 3143 |\n",
       "| 5 | 1967-11-01 | 517.4 | 199498 | 12.8 | 4.7 | 3066 |\n",
       "| 6 | 1967-12-01 | 525.1 | 199657 | 11.8 | 4.8 | 3018 |\n",
       "\n"
      ],
      "text/plain": [
       "  date       pce   pop    psavert uempmed unemploy\n",
       "1 1967-07-01 506.7 198712 12.6    4.5     2944    \n",
       "2 1967-08-01 509.8 198911 12.6    4.7     2945    \n",
       "3 1967-09-01 515.6 199113 11.9    4.6     2958    \n",
       "4 1967-10-01 512.2 199311 12.9    4.9     3143    \n",
       "5 1967-11-01 517.4 199498 12.8    4.7     3066    \n",
       "6 1967-12-01 525.1 199657 11.8    4.8     3018    "
      ]
     },
     "metadata": {},
     "output_type": "display_data"
    },
    {
     "name": "stdout",
     "output_type": "stream",
     "text": [
      "                 Mean    Median       StdDev\n",
      "date     7.806399e+03   7805.50  5047.869347\n",
      "pce      4.820093e+03   3936.85  3556.803613\n",
      "pop      2.571597e+05 253060.00 36682.398508\n",
      "psavert  8.567247e+00      8.40     2.964179\n",
      "uempmed  8.608711e+00      7.50     4.106645\n",
      "unemploy 7.771310e+03   7494.00  2641.959180\n"
     ]
    }
   ],
   "source": [
    "head(data)\n",
    "\n",
    "summary_stats <- data.frame(\n",
    "  Mean = sapply(data, mean, na.rm = TRUE),\n",
    "  Median = sapply(data, median, na.rm = TRUE),\n",
    "  StdDev = sapply(data, sd, na.rm = TRUE)\n",
    ")\n",
    "print(summary_stats)"
   ]
  },
  {
   "cell_type": "markdown",
   "id": "f67a36a8",
   "metadata": {},
   "source": [
    "### C"
   ]
  },
  {
   "cell_type": "code",
   "execution_count": 3,
   "id": "000be36b",
   "metadata": {
    "vscode": {
     "languageId": "r"
    }
   },
   "outputs": [
    {
     "name": "stdout",
     "output_type": "stream",
     "text": [
      "Total unemployment rate: 4460732 \n",
      "Total population: 147609641 \n"
     ]
    }
   ],
   "source": [
    "total_unemploy <- sum(data$unemploy, na.rm = TRUE)\n",
    "total_pop <- sum(data$pop, na.rm = TRUE)\n",
    "cat(\"Total unemployment rate:\", total_unemploy, \"\\n\")\n",
    "cat(\"Total population:\", total_pop, \"\\n\")"
   ]
  },
  {
   "cell_type": "markdown",
   "id": "b1370d3a",
   "metadata": {},
   "source": [
    "### D "
   ]
  },
  {
   "cell_type": "code",
   "execution_count": 4,
   "id": "e515f79f",
   "metadata": {
    "vscode": {
     "languageId": "r"
    }
   },
   "outputs": [
    {
     "name": "stdout",
     "output_type": "stream",
     "text": [
      "   year  unemploy\n",
      "1  1967  3012.333\n",
      "2  1968  2797.417\n",
      "3  1969  2830.167\n",
      "4  1970  4127.333\n",
      "5  1971  5021.667\n",
      "6  1972  4875.833\n",
      "7  1973  4359.333\n",
      "8  1974  5173.333\n",
      "9  1975  7939.583\n",
      "10 1976  7398.167\n",
      "11 1977  6966.917\n",
      "12 1978  6187.083\n",
      "13 1979  6135.333\n",
      "14 1980  7670.667\n",
      "15 1981  8276.333\n",
      "16 1982 10714.917\n",
      "17 1983 10693.750\n",
      "18 1984  8529.083\n",
      "19 1985  8313.417\n",
      "20 1986  8245.000\n",
      "21 1987  7413.500\n",
      "22 1988  6696.583\n",
      "23 1989  6523.667\n",
      "24 1990  7061.000\n",
      "25 1991  8639.833\n",
      "26 1992  9611.167\n",
      "27 1993  8926.667\n",
      "28 1994  7975.500\n",
      "29 1995  7406.917\n",
      "30 1996  7231.083\n",
      "31 1997  6728.667\n",
      "32 1998  6203.833\n",
      "33 1999  5878.833\n",
      "34 2000  5685.083\n",
      "35 2001  6829.667\n",
      "36 2002  8375.333\n",
      "37 2003  8770.333\n",
      "38 2004  8139.667\n",
      "39 2005  7579.167\n",
      "40 2006  6991.250\n",
      "41 2007  7073.083\n",
      "42 2008  8948.167\n",
      "43 2009 14294.500\n",
      "44 2010 14807.750\n",
      "45 2011 13738.500\n",
      "46 2012 12499.167\n",
      "47 2013 11457.167\n",
      "48 2014  9601.500\n",
      "49 2015  8635.750\n"
     ]
    }
   ],
   "source": [
    "data$year <- format(data$date, \"%Y\")\n",
    "unemploy_avg_per_year <- aggregate(unemploy ~ year, data = data, mean)\n",
    "print(unemploy_avg_per_year)\n"
   ]
  },
  {
   "cell_type": "markdown",
   "id": "2ab38054",
   "metadata": {},
   "source": [
    "### E"
   ]
  },
  {
   "cell_type": "code",
   "execution_count": 5,
   "id": "d91ebcf2",
   "metadata": {
    "vscode": {
     "languageId": "r"
    }
   },
   "outputs": [
    {
     "name": "stdout",
     "output_type": "stream",
     "text": [
      "          date    pce    pop psavert uempmed unemploy year\n",
      "508 2009-10-01 9931.9 308189     5.4    18.9    15352 2009\n"
     ]
    }
   ],
   "source": [
    "max_unemploy_row <- data[which.max(data$unemploy), ]\n",
    "print(max_unemploy_row)"
   ]
  },
  {
   "cell_type": "markdown",
   "id": "3047dca9",
   "metadata": {},
   "source": [
    "### F"
   ]
  },
  {
   "cell_type": "code",
   "execution_count": 6,
   "id": "2b8a53f9",
   "metadata": {
    "vscode": {
     "languageId": "r"
    }
   },
   "outputs": [
    {
     "data": {
      "image/png": "[encoded data removed]",
      "text/plain": [
       "plot without title"
      ]
     },
     "metadata": {
      "image/png": {
       "height": 420,
       "width": 420
      }
     },
     "output_type": "display_data"
    }
   ],
   "source": [
    "unemploy_trend_plot <- ggplot(data, aes(x = date, y = unemploy)) +\n",
    "  geom_line(color = \"dark green\") +\n",
    "  labs(title = \"The trend of the unemployment rate over time\", x = \"Years\", y = \"Unemployment rate\")\n",
    "print(unemploy_trend_plot)"
   ]
  },
  {
   "cell_type": "markdown",
   "id": "153e4a1d",
   "metadata": {},
   "source": [
    "### G"
   ]
  },
  {
   "cell_type": "code",
   "execution_count": 7,
   "id": "b388055f",
   "metadata": {
    "vscode": {
     "languageId": "r"
    }
   },
   "outputs": [
    {
     "data": {
      "image/png": "[encoded data removed]",
      "text/plain": [
       "plot without title"
      ]
     },
     "metadata": {
      "image/png": {
       "height": 420,
       "width": 420
      }
     },
     "output_type": "display_data"
    }
   ],
   "source": [
    "pop_per_year <- aggregate(pop ~ year, data = data, sum)\n",
    "pop_per_year$percentage <- (pop_per_year$pop / sum(pop_per_year$pop)) * 100\n",
    "pie_chart <- ggplot(pop_per_year, aes(x = \"\", y = percentage, fill = year)) +\n",
    "  geom_bar(stat = \"identity\", width = 1) +\n",
    "  coord_polar(\"y\", start = 0) +\n",
    "  labs(title = \"A pie chart showing the proportion of the population in different years\") +\n",
    "  theme_void()\n",
    "print(pie_chart)"
   ]
  },
  {
   "cell_type": "markdown",
   "id": "3bf894aa",
   "metadata": {},
   "source": [
    "### H"
   ]
  },
  {
   "cell_type": "code",
   "execution_count": 8,
   "id": "daee02a0",
   "metadata": {
    "vscode": {
     "languageId": "r"
    }
   },
   "outputs": [
    {
     "data": {
      "image/png": "[encoded data removed]",
      "text/plain": [
       "plot without title"
      ]
     },
     "metadata": {
      "image/png": {
       "height": 420,
       "width": 420
      }
     },
     "output_type": "display_data"
    }
   ],
   "source": [
    "unemploy_histogram <- ggplot(data, aes(x = unemploy)) +\n",
    "  geom_histogram(binwidth = 100, fill = \"pink\", color = \"black\") +\n",
    "  labs(title = \"Histogram of unemployment rate\", x = \"Unemployment rate\", y = \"Frequency\")\n",
    "print(unemploy_histogram)"
   ]
  },
  {
   "cell_type": "markdown",
   "id": "4663bfe3",
   "metadata": {},
   "source": [
    "### I"
   ]
  },
  {
   "cell_type": "code",
   "execution_count": 9,
   "id": "6a32d073",
   "metadata": {
    "vscode": {
     "languageId": "r"
    }
   },
   "outputs": [
    {
     "data": {
      "image/png": "[encoded data removed]",
      "text/plain": [
       "plot without title"
      ]
     },
     "metadata": {
      "image/png": {
       "height": 420,
       "width": 420
      }
     },
     "output_type": "display_data"
    }
   ],
   "source": [
    "scatter_plot <- ggplot(data, aes(x = pop, y = unemploy, color = year)) +\n",
    "  geom_point() +\n",
    "  labs(title = \"Scatter plot of population versus unemployment rate\", x = \"Population\", y = \"Unemployment rate\")\n",
    "print(scatter_plot)"
   ]
  },
  {
   "cell_type": "markdown",
   "id": "b97b48ae",
   "metadata": {},
   "source": [
    "### J"
   ]
  },
  {
   "cell_type": "code",
   "execution_count": 10,
   "id": "e8df3027",
   "metadata": {
    "scrolled": true,
    "vscode": {
     "languageId": "r"
    }
   },
   "outputs": [
    {
     "data": {
      "image/png": "[encoded data removed]",
      "text/plain": [
       "plot without title"
      ]
     },
     "metadata": {
      "image/png": {
       "height": 420,
       "width": 420
      }
     },
     "output_type": "display_data"
    }
   ],
   "source": [
    "mean_unemploy_plot <- ggplot(unemploy_avg_per_year, aes(x = as.numeric(year), y = unemploy)) +\n",
    "  geom_line(color = \"dark green\") +\n",
    "  geom_point() +\n",
    "  labs(title = \"Average unemployment rate over time\", x = \"Year\", y = \"Average unemployment rate\")\n",
    "print(mean_unemploy_plot)"
   ]
  },
  {
   "cell_type": "markdown",
   "id": "b456fedd",
   "metadata": {},
   "source": [
    "# Second Question"
   ]
  },
  {
   "cell_type": "code",
   "execution_count": 11,
   "id": "4ee05490",
   "metadata": {
    "vscode": {
     "languageId": "r"
    }
   },
   "outputs": [
    {
     "name": "stdout",
     "output_type": "stream",
     "text": [
      "\n",
      "\tOne Sample t-test\n",
      "\n",
      "data:  blood_pressure_after\n",
      "t = -2.3514, df = 29, p-value = 0.01285\n",
      "alternative hypothesis: true mean is less than 120\n",
      "95 percent confidence interval:\n",
      "     -Inf 119.6764\n",
      "sample estimates:\n",
      "mean of x \n",
      " 118.8333 \n",
      "\n"
     ]
    }
   ],
   "source": [
    "blood_pressure_after <- c(115, 118, 122, 119, 121, 116, 114, 123, 117, 120,\n",
    "                          119, 118, 115, 116, 122, 121, 120, 119, 118, 117,\n",
    "                          123, 124, 115, 116, 117, 118, 119, 120, 121, 122)\n",
    "\n",
    "mean_before <- 120\n",
    "\n",
    "result <- t.test(blood_pressure_after, \n",
    "                 mu = mean_before, \n",
    "                 alternative = \"less\", \n",
    "                 conf.level = 0.95)\n",
    "\n",
    "print(result)\n"
   ]
  },
  {
   "cell_type": "markdown",
   "id": "77dafe9a",
   "metadata": {},
   "source": [
    "Based on the p-value, it can be concluded that the new drug has significantly reduced blood pressure, since this value is less than the significance level. Therefore, the null hypothesis — which states that the drug has no effect on reducing blood pressure — is rejected. As a result, the new drug is likely effective and reduces blood pressure.\n"
   ]
  },
  {
   "cell_type": "code",
   "execution_count": 12,
   "id": "83fcf4bd",
   "metadata": {
    "vscode": {
     "languageId": "r"
    }
   },
   "outputs": [
    {
     "name": "stdout",
     "output_type": "stream",
     "text": [
      "\n",
      "\tOne Sample t-test\n",
      "\n",
      "data:  blood_pressure_after\n",
      "t = -2.3514, df = 29, p-value = 0.02571\n",
      "alternative hypothesis: true mean is not equal to 120\n",
      "95 percent confidence interval:\n",
      " 117.8186 119.8481\n",
      "sample estimates:\n",
      "mean of x \n",
      " 118.8333 \n",
      "\n"
     ]
    }
   ],
   "source": [
    "blood_pressure_after <- c(115, 118, 122, 119, 121, 116, 114, 123, 117, 120,\n",
    "                          119, 118, 115, 116, 122, 121, 120, 119, 118, 117,\n",
    "                          123, 124, 115, 116, 117, 118, 119, 120, 121, 122)\n",
    "\n",
    "mean_before <- 120\n",
    "\n",
    "result <- t.test(blood_pressure_after, \n",
    "                 mu = mean_before, \n",
    "                 alternative = \"two.sided\", \n",
    "                 conf.level = 0.95)\n",
    "\n",
    "print(result)\n"
   ]
  },
  {
   "cell_type": "markdown",
   "id": "56f112b6",
   "metadata": {},
   "source": [
    "The p-value is still less than the significance level.\n",
    "\n",
    "Therefore, the conclusion remains unchanged — the drug has significantly affected blood pressure.\n"
   ]
  },
  {
   "cell_type": "markdown",
   "id": "45cd860a",
   "metadata": {},
   "source": [
    "### Difference in Conclusion:\n",
    "\n",
    "* In the **one-tailed test**: Since our assumption was that blood pressure might decrease, the result indicates that the drug has reduced blood pressure.\n",
    "* In the **two-tailed test**: We reach the same conclusion, but this test examines whether the drug has caused any significant change in blood pressure in general, without specifying the direction of the change.\n",
    "\n",
    "Overall, both tests indicate that the drug has had a significant effect in lowering blood pressure.\n"
   ]
  },
  {
   "cell_type": "markdown",
   "id": "633a7ea3",
   "metadata": {},
   "source": [
    "# Third Question"
   ]
  },
  {
   "cell_type": "markdown",
   "id": "bc9b9ba0",
   "metadata": {},
   "source": [
    "### A "
   ]
  },
  {
   "cell_type": "code",
   "execution_count": 13,
   "id": "321a4235",
   "metadata": {
    "vscode": {
     "languageId": "r"
    }
   },
   "outputs": [
    {
     "data": {
      "text/html": [
       "<table class=\"dataframe\">\n",
       "<caption>A data.frame: 10 × 5</caption>\n",
       "<thead>\n",
       "\t<tr><th></th><th scope=col>lat</th><th scope=col>long</th><th scope=col>depth</th><th scope=col>mag</th><th scope=col>stations</th></tr>\n",
       "\t<tr><th></th><th scope=col>&lt;dbl&gt;</th><th scope=col>&lt;dbl&gt;</th><th scope=col>&lt;int&gt;</th><th scope=col>&lt;dbl&gt;</th><th scope=col>&lt;int&gt;</th></tr>\n",
       "</thead>\n",
       "<tbody>\n",
       "\t<tr><th scope=row>1</th><td>-20.42</td><td>181.62</td><td>562</td><td>4.8</td><td>41</td></tr>\n",
       "\t<tr><th scope=row>2</th><td>-20.62</td><td>181.03</td><td>650</td><td>4.2</td><td>15</td></tr>\n",
       "\t<tr><th scope=row>3</th><td>-26.00</td><td>184.10</td><td> 42</td><td>5.4</td><td>43</td></tr>\n",
       "\t<tr><th scope=row>4</th><td>-17.97</td><td>181.66</td><td>626</td><td>4.1</td><td>19</td></tr>\n",
       "\t<tr><th scope=row>5</th><td>-20.42</td><td>181.96</td><td>649</td><td>4.0</td><td>11</td></tr>\n",
       "\t<tr><th scope=row>6</th><td>-19.68</td><td>184.31</td><td>195</td><td>4.0</td><td>12</td></tr>\n",
       "\t<tr><th scope=row>7</th><td>-11.70</td><td>166.10</td><td> 82</td><td>4.8</td><td>43</td></tr>\n",
       "\t<tr><th scope=row>8</th><td>-28.11</td><td>181.93</td><td>194</td><td>4.4</td><td>15</td></tr>\n",
       "\t<tr><th scope=row>9</th><td>-28.74</td><td>181.74</td><td>211</td><td>4.7</td><td>35</td></tr>\n",
       "\t<tr><th scope=row>10</th><td>-17.47</td><td>179.59</td><td>622</td><td>4.3</td><td>19</td></tr>\n",
       "</tbody>\n",
       "</table>\n"
      ],
      "text/latex": [
       "A data.frame: 10 × 5\n",
       "\\begin{tabular}{r|lllll}\n",
       "  & lat & long & depth & mag & stations\\\\\n",
       "  & <dbl> & <dbl> & <int> & <dbl> & <int>\\\\\n",
       "\\hline\n",
       "\t1 & -20.42 & 181.62 & 562 & 4.8 & 41\\\\\n",
       "\t2 & -20.62 & 181.03 & 650 & 4.2 & 15\\\\\n",
       "\t3 & -26.00 & 184.10 &  42 & 5.4 & 43\\\\\n",
       "\t4 & -17.97 & 181.66 & 626 & 4.1 & 19\\\\\n",
       "\t5 & -20.42 & 181.96 & 649 & 4.0 & 11\\\\\n",
       "\t6 & -19.68 & 184.31 & 195 & 4.0 & 12\\\\\n",
       "\t7 & -11.70 & 166.10 &  82 & 4.8 & 43\\\\\n",
       "\t8 & -28.11 & 181.93 & 194 & 4.4 & 15\\\\\n",
       "\t9 & -28.74 & 181.74 & 211 & 4.7 & 35\\\\\n",
       "\t10 & -17.47 & 179.59 & 622 & 4.3 & 19\\\\\n",
       "\\end{tabular}\n"
      ],
      "text/markdown": [
       "\n",
       "A data.frame: 10 × 5\n",
       "\n",
       "| <!--/--> | lat &lt;dbl&gt; | long &lt;dbl&gt; | depth &lt;int&gt; | mag &lt;dbl&gt; | stations &lt;int&gt; |\n",
       "|---|---|---|---|---|---|\n",
       "| 1 | -20.42 | 181.62 | 562 | 4.8 | 41 |\n",
       "| 2 | -20.62 | 181.03 | 650 | 4.2 | 15 |\n",
       "| 3 | -26.00 | 184.10 |  42 | 5.4 | 43 |\n",
       "| 4 | -17.97 | 181.66 | 626 | 4.1 | 19 |\n",
       "| 5 | -20.42 | 181.96 | 649 | 4.0 | 11 |\n",
       "| 6 | -19.68 | 184.31 | 195 | 4.0 | 12 |\n",
       "| 7 | -11.70 | 166.10 |  82 | 4.8 | 43 |\n",
       "| 8 | -28.11 | 181.93 | 194 | 4.4 | 15 |\n",
       "| 9 | -28.74 | 181.74 | 211 | 4.7 | 35 |\n",
       "| 10 | -17.47 | 179.59 | 622 | 4.3 | 19 |\n",
       "\n"
      ],
      "text/plain": [
       "   lat    long   depth mag stations\n",
       "1  -20.42 181.62 562   4.8 41      \n",
       "2  -20.62 181.03 650   4.2 15      \n",
       "3  -26.00 184.10  42   5.4 43      \n",
       "4  -17.97 181.66 626   4.1 19      \n",
       "5  -20.42 181.96 649   4.0 11      \n",
       "6  -19.68 184.31 195   4.0 12      \n",
       "7  -11.70 166.10  82   4.8 43      \n",
       "8  -28.11 181.93 194   4.4 15      \n",
       "9  -28.74 181.74 211   4.7 35      \n",
       "10 -17.47 179.59 622   4.3 19      "
      ]
     },
     "metadata": {},
     "output_type": "display_data"
    }
   ],
   "source": [
    "library(ggplot2)\n",
    "data <- as.data.frame(quakes)\n",
    "head(quakes, 10)"
   ]
  },
  {
   "cell_type": "markdown",
   "id": "73652f25",
   "metadata": {},
   "source": [
    "### B"
   ]
  },
  {
   "cell_type": "code",
   "execution_count": 14,
   "id": "145525ed",
   "metadata": {
    "vscode": {
     "languageId": "r"
    }
   },
   "outputs": [
    {
     "data": {
      "text/html": [
       "-0.230637697687657"
      ],
      "text/latex": [
       "-0.230637697687657"
      ],
      "text/markdown": [
       "-0.230637697687657"
      ],
      "text/plain": [
       "[1] -0.2306377"
      ]
     },
     "metadata": {},
     "output_type": "display_data"
    }
   ],
   "source": [
    "cor(quakes$mag, quakes$depth)"
   ]
  },
  {
   "cell_type": "markdown",
   "id": "84264bab",
   "metadata": {},
   "source": [
    "### C "
   ]
  },
  {
   "cell_type": "code",
   "execution_count": 15,
   "id": "fcef8f53",
   "metadata": {
    "vscode": {
     "languageId": "r"
    }
   },
   "outputs": [
    {
     "name": "stderr",
     "output_type": "stream",
     "text": [
      "Installing package into 'C:/Users/ASUS/AppData/Local/R/win-library/4.4'\n",
      "(as 'lib' is unspecified)\n",
      "\n"
     ]
    },
    {
     "name": "stdout",
     "output_type": "stream",
     "text": [
      "package 'corrplot' successfully unpacked and MD5 sums checked\n",
      "\n",
      "The downloaded binary packages are in\n",
      "\tC:\\Users\\ASUS\\AppData\\Local\\Temp\\RtmpMXu9cy\\downloaded_packages\n"
     ]
    },
    {
     "name": "stderr",
     "output_type": "stream",
     "text": [
      "Warning message:\n",
      "\"package 'corrplot' was built under R version 4.4.3\"\n",
      "corrplot 0.95 loaded\n",
      "\n"
     ]
    },
    {
     "data": {
      "image/png": "[encoded data removed]",
      "text/plain": [
       "Plot with title \"\""
      ]
     },
     "metadata": {
      "image/png": {
       "height": 420,
       "width": 420
      }
     },
     "output_type": "display_data"
    }
   ],
   "source": [
    "install.packages(\"corrplot\")\n",
    "\n",
    "library(corrplot)\n",
    "\n",
    "cor_matrix <- cor(quakes[, c(\"mag\", \"depth\", \"lat\", \"long\")])\n",
    "\n",
    "corrplot(cor_matrix, method = \"circle\")"
   ]
  },
  {
   "cell_type": "markdown",
   "id": "76ed3c15",
   "metadata": {},
   "source": [
    "### D"
   ]
  },
  {
   "cell_type": "markdown",
   "id": "b1e76c1e",
   "metadata": {},
   "source": [
    "In this matrix, the larger the circles, the stronger the correlation. Dark blue indicates a strong positive correlation, while dark red indicates a strong negative correlation.\n",
    "\n",
    "Based on the chart, the following observations can be made:\n",
    "\n",
    "1. **Depth and Magnitude (depth, mag):**\n",
    "   There is a moderate negative correlation, as indicated by the medium-sized red circle. This means that as the magnitude increases, the depth tends to decrease, and vice versa.\n",
    "\n",
    "2. **Latitude and Magnitude (lat, mag):**\n",
    "   There is very little correlation with latitude and longitude — the circles are small and nearly white.\n",
    "\n",
    "3. **Latitude and Depth (lat, depth):**\n",
    "   Depth shows a weak negative relationship with latitude and longitude. The circles are small and light-colored.\n",
    "\n",
    "4. **Longitude and Latitude (long, lat):**\n",
    "   There is a strong negative correlation, shown by a large red circle. This suggests that latitude and longitude have an inverse relationship — as one increases, the other tends to decrease.\n",
    "\n",
    "5. **Magnitude and Longitude (mag, long):**\n",
    "   There is a relatively weak negative correlation, represented by a medium red circle.\n",
    "\n",
    "6. **Depth and Longitude (depth, long):**\n",
    "   There is a relatively weak positive correlation, indicated by a small blue circle.\n"
   ]
  },
  {
   "cell_type": "markdown",
   "id": "ab0d25cf",
   "metadata": {},
   "source": [
    "### E"
   ]
  },
  {
   "cell_type": "code",
   "execution_count": 16,
   "id": "afe8f711",
   "metadata": {
    "vscode": {
     "languageId": "r"
    }
   },
   "outputs": [
    {
     "data": {
      "text/html": [
       "<table class=\"dataframe\">\n",
       "<caption>A matrix: 5 × 5 of type dbl</caption>\n",
       "<thead>\n",
       "\t<tr><th></th><th scope=col>lat</th><th scope=col>long</th><th scope=col>depth</th><th scope=col>mag</th><th scope=col>stations</th></tr>\n",
       "</thead>\n",
       "<tbody>\n",
       "\t<tr><th scope=row>lat</th><td> 1.000000000</td><td>-0.36454404</td><td> 0.03102583</td><td>-0.05046165</td><td>-0.002220645</td></tr>\n",
       "\t<tr><th scope=row>long</th><td>-0.364544037</td><td> 1.00000000</td><td> 0.14444341</td><td>-0.17306726</td><td>-0.053512460</td></tr>\n",
       "\t<tr><th scope=row>depth</th><td> 0.031025831</td><td> 0.14444341</td><td> 1.00000000</td><td>-0.23063770</td><td>-0.073515097</td></tr>\n",
       "\t<tr><th scope=row>mag</th><td>-0.050461651</td><td>-0.17306726</td><td>-0.23063770</td><td> 1.00000000</td><td> 0.851182422</td></tr>\n",
       "\t<tr><th scope=row>stations</th><td>-0.002220645</td><td>-0.05351246</td><td>-0.07351510</td><td> 0.85118242</td><td> 1.000000000</td></tr>\n",
       "</tbody>\n",
       "</table>\n"
      ],
      "text/latex": [
       "A matrix: 5 × 5 of type dbl\n",
       "\\begin{tabular}{r|lllll}\n",
       "  & lat & long & depth & mag & stations\\\\\n",
       "\\hline\n",
       "\tlat &  1.000000000 & -0.36454404 &  0.03102583 & -0.05046165 & -0.002220645\\\\\n",
       "\tlong & -0.364544037 &  1.00000000 &  0.14444341 & -0.17306726 & -0.053512460\\\\\n",
       "\tdepth &  0.031025831 &  0.14444341 &  1.00000000 & -0.23063770 & -0.073515097\\\\\n",
       "\tmag & -0.050461651 & -0.17306726 & -0.23063770 &  1.00000000 &  0.851182422\\\\\n",
       "\tstations & -0.002220645 & -0.05351246 & -0.07351510 &  0.85118242 &  1.000000000\\\\\n",
       "\\end{tabular}\n"
      ],
      "text/markdown": [
       "\n",
       "A matrix: 5 × 5 of type dbl\n",
       "\n",
       "| <!--/--> | lat | long | depth | mag | stations |\n",
       "|---|---|---|---|---|---|\n",
       "| lat |  1.000000000 | -0.36454404 |  0.03102583 | -0.05046165 | -0.002220645 |\n",
       "| long | -0.364544037 |  1.00000000 |  0.14444341 | -0.17306726 | -0.053512460 |\n",
       "| depth |  0.031025831 |  0.14444341 |  1.00000000 | -0.23063770 | -0.073515097 |\n",
       "| mag | -0.050461651 | -0.17306726 | -0.23063770 |  1.00000000 |  0.851182422 |\n",
       "| stations | -0.002220645 | -0.05351246 | -0.07351510 |  0.85118242 |  1.000000000 |\n",
       "\n"
      ],
      "text/plain": [
       "         lat          long        depth       mag         stations    \n",
       "lat       1.000000000 -0.36454404  0.03102583 -0.05046165 -0.002220645\n",
       "long     -0.364544037  1.00000000  0.14444341 -0.17306726 -0.053512460\n",
       "depth     0.031025831  0.14444341  1.00000000 -0.23063770 -0.073515097\n",
       "mag      -0.050461651 -0.17306726 -0.23063770  1.00000000  0.851182422\n",
       "stations -0.002220645 -0.05351246 -0.07351510  0.85118242  1.000000000"
      ]
     },
     "metadata": {},
     "output_type": "display_data"
    }
   ],
   "source": [
    "cor(quakes)"
   ]
  },
  {
   "cell_type": "markdown",
   "id": "2f1b44c1",
   "metadata": {},
   "source": [
    "### F"
   ]
  },
  {
   "cell_type": "code",
   "execution_count": 17,
   "id": "7261645e",
   "metadata": {
    "vscode": {
     "languageId": "r"
    }
   },
   "outputs": [
    {
     "data": {
      "text/plain": [
       "\n",
       "\tPearson's product-moment correlation\n",
       "\n",
       "data:  quakes$mag and quakes$depth\n",
       "t = -7.488, df = 998, p-value = 1.535e-13\n",
       "alternative hypothesis: true correlation is not equal to 0\n",
       "95 percent confidence interval:\n",
       " -0.2885057 -0.1710909\n",
       "sample estimates:\n",
       "       cor \n",
       "-0.2306377 \n"
      ]
     },
     "metadata": {},
     "output_type": "display_data"
    }
   ],
   "source": [
    "cor.test(quakes$mag, quakes$depth)"
   ]
  },
  {
   "cell_type": "markdown",
   "id": "cc04760b",
   "metadata": {},
   "source": [
    "Their correlation is slightly negative. This can also be seen in the chart, where a moderately sized red circle appears — indicating that the variables are somewhat related, but their relationship is inverse.\n"
   ]
  },
  {
   "cell_type": "markdown",
   "id": "706eff27",
   "metadata": {},
   "source": [
    "To determine whether the correlation is statistically significant, a **Correlation Test** can be performed by comparing the *p-value* with 0.05.\n",
    "\n",
    "In this test, the hypotheses are as follows:\n",
    "\n",
    "* **Null hypothesis (H₀):** There is no significant linear relationship between *mag* and *depth* (correlation coefficient = 0).\n",
    "* **Alternative hypothesis (H₁):** There is a significant linear correlation between *mag* and *depth* (correlation coefficient ≠ 0).\n",
    "\n",
    "Given the very small *p-value* (1.535e-13) and the negative correlation coefficient (-0.2306377), we can confidently reject the null hypothesis. This indicates that there is a statistically significant but weak negative correlation between *mag* and *depth*.\n",
    "\n",
    "In other words, as depth increases, the *mag* value slightly decreases — although this relationship is not strong.\n",
    "**Therefore, while the two variables are significantly related and depth may have some influence on magnitude, the strength of this effect is weak.**\n"
   ]
  },
  {
   "cell_type": "markdown",
   "id": "f6aa2e89",
   "metadata": {},
   "source": [
    "### G"
   ]
  },
  {
   "cell_type": "code",
   "execution_count": 18,
   "id": "b83f7988",
   "metadata": {
    "vscode": {
     "languageId": "r"
    }
   },
   "outputs": [
    {
     "name": "stderr",
     "output_type": "stream",
     "text": [
      "\u001b[1m\u001b[22m`geom_smooth()` using formula = 'y ~ x'\n"
     ]
    },
    {
     "data": {
      "image/png": "[encoded data removed]",
      "text/plain": [
       "plot without title"
      ]
     },
     "metadata": {
      "image/png": {
       "height": 420,
       "width": 420
      }
     },
     "output_type": "display_data"
    }
   ],
   "source": [
    "if (!require(\"ggplot2\")) install.packages(\"ggplot2\")\n",
    "library(ggplot2)\n",
    "ggplot(quakes, aes(x = depth, y = mag)) +\n",
    "  geom_point(alpha = 0.7) +\n",
    "  geom_smooth(method = \"lm\", col = \"red\", se = FALSE) +\n",
    "  labs(title = \"Scatter Plot of mag vs. depth\",\n",
    "       x = \"Depth\",\n",
    "       y = \"Magnitude\") +\n",
    "  theme_minimal()"
   ]
  },
  {
   "cell_type": "markdown",
   "id": "7aff6084",
   "metadata": {},
   "source": [
    "### H"
   ]
  },
  {
   "cell_type": "markdown",
   "id": "22423ff8",
   "metadata": {},
   "source": [
    "Based on the regression line, it can be concluded that there is an inverse relationship between **magnitude** and **depth**. As the depth increases, the magnitude decreases slightly, and vice versa. The small slope of the line indicates that this dependency is weak in strength.\n"
   ]
  }
 ],
 "metadata": {
  "kernelspec": {
   "display_name": "R",
   "language": "R",
   "name": "ir"
  },
  "language_info": {
   "codemirror_mode": "r",
   "file_extension": ".r",
   "mimetype": "text/x-r-source",
   "name": "R",
   "pygments_lexer": "r",
   "version": "4.4.1"
  }
 },
 "nbformat": 4,
 "nbformat_minor": 5
}
